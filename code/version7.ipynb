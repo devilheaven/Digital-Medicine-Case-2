{
 "cells": [
  {
   "cell_type": "markdown",
   "metadata": {
    "id": "228_2UwAxVRl"
   },
   "source": [
    "## loading packages"
   ]
  },
  {
   "cell_type": "code",
   "execution_count": 1,
   "metadata": {
    "colab": {
     "base_uri": "https://localhost:8080/"
    },
    "executionInfo": {
     "elapsed": 7949,
     "status": "ok",
     "timestamp": 1637141052292,
     "user": {
      "displayName": "陳冠志",
      "photoUrl": "https://lh3.googleusercontent.com/a/default-user=s64",
      "userId": "16295790873122194562"
     },
     "user_tz": -480
    },
    "id": "FbFajdxZjqR4",
    "outputId": "1ac5b348-ab26-4910-9dd5-c8800488bc6f"
   },
   "outputs": [],
   "source": [
    "import os\n",
    "import numpy as np\n",
    "import pandas as pd\n",
    "\n",
    "# deep learning package\n",
    "# !pip install keras\n",
    "# !pip install tensorflow\n",
    "import keras as ks\n",
    "import tensorflow as tf\n",
    "\n",
    "# DICOM package\n",
    "# !pip install pydicom\n",
    "import pydicom\n",
    "\n",
    "import matplotlib.pyplot as plt\n",
    "%matplotlib inline"
   ]
  },
  {
   "cell_type": "code",
   "execution_count": 2,
   "metadata": {},
   "outputs": [
    {
     "name": "stdout",
     "output_type": "stream",
     "text": [
      "Num GPUs Available:  2\n"
     ]
    }
   ],
   "source": [
    "# import tensorflow as tf\n",
    "print(\"Num GPUs Available: \", len(tf.config.list_physical_devices('GPU')))"
   ]
  },
  {
   "cell_type": "code",
   "execution_count": 3,
   "metadata": {},
   "outputs": [],
   "source": [
    "gpus = tf.config.list_physical_devices('GPU')\n",
    "tf.config.set_visible_devices(gpus[1], 'GPU')"
   ]
  },
  {
   "cell_type": "markdown",
   "metadata": {
    "id": "TKjLzLnnTF1J"
   },
   "source": [
    "## check the version of tensorflow and keras "
   ]
  },
  {
   "cell_type": "code",
   "execution_count": 4,
   "metadata": {
    "colab": {
     "base_uri": "https://localhost:8080/"
    },
    "executionInfo": {
     "elapsed": 14,
     "status": "ok",
     "timestamp": 1637141052292,
     "user": {
      "displayName": "陳冠志",
      "photoUrl": "https://lh3.googleusercontent.com/a/default-user=s64",
      "userId": "16295790873122194562"
     },
     "user_tz": -480
    },
    "id": "S6KOnSqLj7d2",
    "outputId": "dbf27c67-8d31-4a8d-fda0-bb96fea77f5e"
   },
   "outputs": [
    {
     "name": "stdout",
     "output_type": "stream",
     "text": [
      "tf version:2.7.0\n",
      "ks version:2.7.0\n"
     ]
    }
   ],
   "source": [
    "print(f\"tf version:{tf.__version__}\")\n",
    "print(f\"ks version:{ks.__version__}\")"
   ]
  },
  {
   "cell_type": "markdown",
   "metadata": {
    "id": "vecEF6-QxN9Z"
   },
   "source": [
    "## change workspace"
   ]
  },
  {
   "cell_type": "code",
   "execution_count": 5,
   "metadata": {
    "colab": {
     "base_uri": "https://localhost:8080/"
    },
    "executionInfo": {
     "elapsed": 12,
     "status": "ok",
     "timestamp": 1637141052293,
     "user": {
      "displayName": "陳冠志",
      "photoUrl": "https://lh3.googleusercontent.com/a/default-user=s64",
      "userId": "16295790873122194562"
     },
     "user_tz": -480
    },
    "id": "3_3NfYtpkMQI",
    "outputId": "f599be23-3028-4db4-ce86-b4f47d1dd79b"
   },
   "outputs": [
    {
     "data": {
      "text/plain": [
       "['data_info.csv',\n",
       " '.ipynb_checkpoints',\n",
       " 'image',\n",
       " 'output',\n",
       " 'data',\n",
       " 'model_parameter.hd5',\n",
       " 'sample_submission.csv']"
      ]
     },
     "execution_count": 5,
     "metadata": {},
     "output_type": "execute_result"
    }
   ],
   "source": [
    "path = '/mnt/ec/ness/ken/workspace/case2/digital-medicine-2021-case-presentation-2/'\n",
    "os.chdir(path)\n",
    "os.listdir()"
   ]
  },
  {
   "cell_type": "markdown",
   "metadata": {
    "id": "A5zhig23Sixl"
   },
   "source": [
    "## data preprocessing\n",
    "\n",
    "https://gist.github.com/ReemRashwan/8c92086d3104d01978a16e05ca93a165#file-dcmdataframeiterator-py-L4"
   ]
  },
  {
   "cell_type": "code",
   "execution_count": 6,
   "metadata": {
    "colab": {
     "base_uri": "https://localhost:8080/"
    },
    "executionInfo": {
     "elapsed": 10,
     "status": "ok",
     "timestamp": 1637141052294,
     "user": {
      "displayName": "陳冠志",
      "photoUrl": "https://lh3.googleusercontent.com/a/default-user=s64",
      "userId": "16295790873122194562"
     },
     "user_tz": -480
    },
    "id": "8IvzJzSNkSui",
    "outputId": "9116c13d-473a-4da0-8d69-b7c04e93b3f7"
   },
   "outputs": [
    {
     "data": {
      "text/plain": [
       "['data_info.csv',\n",
       " '.ipynb_checkpoints',\n",
       " 'image',\n",
       " 'output',\n",
       " 'data',\n",
       " 'model_parameter.hd5',\n",
       " 'sample_submission.csv']"
      ]
     },
     "execution_count": 6,
     "metadata": {},
     "output_type": "execute_result"
    }
   ],
   "source": [
    "dataspace = '.'\n",
    "os.listdir(dataspace)"
   ]
  },
  {
   "cell_type": "code",
   "execution_count": 7,
   "metadata": {
    "executionInfo": {
     "elapsed": 440,
     "status": "ok",
     "timestamp": 1637141052726,
     "user": {
      "displayName": "陳冠志",
      "photoUrl": "https://lh3.googleusercontent.com/a/default-user=s64",
      "userId": "16295790873122194562"
     },
     "user_tz": -480
    },
    "id": "cnHfOqN3RiLV"
   },
   "outputs": [
    {
     "data": {
      "text/plain": [
       "['200238f5e3a0',\n",
       " '5d28267795b8',\n",
       " 'd580f1339930',\n",
       " '4c3764930e27',\n",
       " 'a790956c8287',\n",
       " '1842a80d37a9',\n",
       " '099036ea23ed',\n",
       " '3dad15501561',\n",
       " '807c7e464637',\n",
       " 'e1a404331897']"
      ]
     },
     "execution_count": 7,
     "metadata": {},
     "output_type": "execute_result"
    }
   ],
   "source": [
    "imagepath=os.path.join(dataspace,'data','data','train')\n",
    "os.listdir(imagepath)[:10]"
   ]
  },
  {
   "cell_type": "code",
   "execution_count": 8,
   "metadata": {},
   "outputs": [],
   "source": [
    "version = 'version7'\n",
    "output_path=(os.path.join(dataspace, 'output',version))\n",
    "\n",
    "if not os.path.exists(output_path):\n",
    "    os.mkdir(output_path)"
   ]
  },
  {
   "cell_type": "code",
   "execution_count": 9,
   "metadata": {
    "executionInfo": {
     "elapsed": 4,
     "status": "ok",
     "timestamp": 1637141052726,
     "user": {
      "displayName": "陳冠志",
      "photoUrl": "https://lh3.googleusercontent.com/a/default-user=s64",
      "userId": "16295790873122194562"
     },
     "user_tz": -480
    },
    "id": "5Kl5xnvKzMPW"
   },
   "outputs": [],
   "source": [
    "import pydicom\n",
    "# !pip install opencv-python\n",
    "import cv2\n",
    "\n",
    "from tensorflow.keras.preprocessing.image import ImageDataGenerator\n",
    "from keras_preprocessing.image.dataframe_iterator import DataFrameIterator\n",
    "\n",
    "# tested on tf 2.1 \n",
    "\n",
    "class DCMDataFrameIterator(DataFrameIterator):\n",
    "    def __init__(self, *arg, **kwargs):\n",
    "        self.white_list_formats = ('dcm')\n",
    "        super(DCMDataFrameIterator, self).__init__(*arg, **kwargs)\n",
    "        self.dataframe = kwargs['dataframe']\n",
    "        self.x = self.dataframe[kwargs['x_col']]\n",
    "        self.y = self.dataframe[kwargs['y_col']]\n",
    "        # self.color_mode = kwargs['color_mode']\n",
    "        self.target_size = kwargs['target_size']\n",
    "\n",
    "    def _get_batches_of_transformed_samples(self, indices_array):\n",
    "        # get batch of images\n",
    "        batch_x = np.array([self.read_dcm_as_array(dcm_path, self.target_size, color_mode=self.color_mode)\n",
    "                            for dcm_path in self.x.iloc[indices_array]])\n",
    "        batch_x = self.image_data_generator.standardize(batch_x.astype('float64'))\n",
    "\n",
    "\n",
    "\n",
    "        # batch_y = np.array(self.y.iloc[indices_array].astype(np.uint8))  # astype because y was passed as str\n",
    "        batch_y = np.array(self.y.iloc[indices_array]) \n",
    "        \n",
    "        # transform images\n",
    "        if self.image_data_generator is not None:\n",
    "            for i, (x, y) in enumerate(zip(batch_x, batch_y)):\n",
    "                transform_params = self.image_data_generator.get_random_transform(x.shape)\n",
    "                batch_x[i] = self.image_data_generator.apply_transform(x, transform_params)\n",
    "                # you can change y here as well, eg: in semantic segmentation you want to transform masks as well \n",
    "                # using the same image_data_generator transformations.\n",
    "\n",
    "        return batch_x, batch_y\n",
    "\n",
    "    @staticmethod\n",
    "    def read_dcm_as_array(dcm_path, target_size=(256, 256), color_mode='rgb'):\n",
    "        image_array = pydicom.dcmread(dcm_path).pixel_array\n",
    "#         image_array = (image_array - np.mean(image_array)) / (np.std(image_array - np.mean(image_array))) \n",
    "        image_array = cv2.resize(image_array, target_size, interpolation=cv2.INTER_NEAREST)  #this returns a 2d array\n",
    "        image_array = np.expand_dims(image_array, -1)\n",
    "        if color_mode == 'rgb':\n",
    "            image_array = cv2.cvtColor(image_array, cv2.COLOR_GRAY2RGB)\n",
    "        return image_array\n",
    "\n",
    "# augmentation parameters\n",
    "# you can use preprocessing_function instead of rescale in all generators\n",
    "# if you are using a pretrained network\n",
    "train_augmentation_parameters = dict(\n",
    "#     rescale=1.0/255.0,\n",
    "    rotation_range=10,\n",
    "    zoom_range=0.2,\n",
    "    horizontal_flip=True,\n",
    "    fill_mode='nearest',\n",
    "    brightness_range = [0.5, 1.5],\n",
    "    validation_split = 0.2\n",
    ")\n",
    "\n",
    "valid_augmentation_parameters = dict(\n",
    "#     rescale=1.0/255.0,\n",
    "    validation_split = 0.2\n",
    ")\n",
    "\n",
    "test_augmentation_parameters = dict(\n",
    "#     rescale=1.0/255.0\n",
    ")\n",
    "\n",
    "# training parameters\n",
    "BATCH_SIZE = 30\n",
    "CLASS_MODE = 'multi_output'\n",
    "COLOR_MODE = 'rgb'\n",
    "TARGET_SIZE = (128, 128)\n",
    "EPOCHS = 200\n",
    "SEED = 1337\n",
    "\n",
    "train_consts = {\n",
    "    'seed': SEED,\n",
    "    'batch_size': BATCH_SIZE,\n",
    "    'class_mode': CLASS_MODE,\n",
    "    'color_mode': COLOR_MODE,\n",
    "    'target_size': TARGET_SIZE,  \n",
    "    'subset': 'training'\n",
    "}\n",
    "\n",
    "valid_consts = {\n",
    "    'seed': SEED,\n",
    "    'batch_size': BATCH_SIZE,\n",
    "    'class_mode': CLASS_MODE,\n",
    "    'color_mode': COLOR_MODE,\n",
    "    'target_size': TARGET_SIZE, \n",
    "    'subset': 'validation'\n",
    "}\n",
    "\n",
    "test_consts = {\n",
    "    'batch_size': 1,  # should be 1 in testing\n",
    "    'class_mode': CLASS_MODE,\n",
    "    'color_mode': COLOR_MODE,\n",
    "    'target_size': TARGET_SIZE,  # resize input images\n",
    "    'shuffle': False\n",
    "}\n",
    "\n",
    "\n"
   ]
  },
  {
   "cell_type": "code",
   "execution_count": 10,
   "metadata": {},
   "outputs": [],
   "source": [
    "# Using the training phase generators \n",
    "train_augmenter = ImageDataGenerator(**train_augmentation_parameters)\n",
    "valid_augmenter = ImageDataGenerator(**valid_augmentation_parameters)\n",
    "test_augmenter = ImageDataGenerator(**test_augmentation_parameters)"
   ]
  },
  {
   "cell_type": "code",
   "execution_count": 11,
   "metadata": {
    "colab": {
     "base_uri": "https://localhost:8080/"
    },
    "executionInfo": {
     "elapsed": 2153,
     "status": "ok",
     "timestamp": 1637141054876,
     "user": {
      "displayName": "陳冠志",
      "photoUrl": "https://lh3.googleusercontent.com/a/default-user=s64",
      "userId": "16295790873122194562"
     },
     "user_tz": -480
    },
    "id": "rsjxa82WRnpT",
    "outputId": "388b54b4-abf1-49ac-8905-1cdd7d1f8414"
   },
   "outputs": [
    {
     "name": "stdout",
     "output_type": "stream",
     "text": [
      "Number of (.dcm) files = 1200\n"
     ]
    },
    {
     "data": {
      "text/plain": [
       "['./data/data/train/200238f5e3a0/0475b3c0444d/bd6854b1a5c2.dcm',\n",
       " './data/data/train/5d28267795b8/05d6617ead55/4f98ad71a739.dcm',\n",
       " './data/data/train/d580f1339930/3d341e533c68/3180ed684d91.dcm',\n",
       " './data/data/train/4c3764930e27/7230457f767a/309a6770492b.dcm',\n",
       " './data/data/train/a790956c8287/4b6f5164e3f2/75f2e2a4dfc4.dcm']"
      ]
     },
     "execution_count": 11,
     "metadata": {},
     "output_type": "execute_result"
    }
   ],
   "source": [
    "DCMFiles = [] \n",
    "file_name = []\n",
    "for dirName, subdirList, fileList in os.walk(imagepath):\n",
    "  for filename in fileList:\n",
    "    if \".dcm\" in filename.lower():\n",
    "      file_name.append(filename[:-4])\n",
    "      DCMFiles.append(os.path.join(dirName,filename))\n",
    "print(\"Number of (.dcm) files =\", len(DCMFiles))\n",
    "DCMFiles[:5]"
   ]
  },
  {
   "cell_type": "code",
   "execution_count": 12,
   "metadata": {
    "colab": {
     "base_uri": "https://localhost:8080/"
    },
    "executionInfo": {
     "elapsed": 402,
     "status": "ok",
     "timestamp": 1637141055274,
     "user": {
      "displayName": "陳冠志",
      "photoUrl": "https://lh3.googleusercontent.com/a/default-user=s64",
      "userId": "16295790873122194562"
     },
     "user_tz": -480
    },
    "id": "k6eTmjBa_L0a",
    "outputId": "024b2c80-41c1-4207-b070-176eb9863a67"
   },
   "outputs": [
    {
     "data": {
      "text/plain": [
       "(2400, 2880)"
      ]
     },
     "execution_count": 12,
     "metadata": {},
     "output_type": "execute_result"
    }
   ],
   "source": [
    "pydicom.read_file(DCMFiles[1]).pixel_array.shape"
   ]
  },
  {
   "cell_type": "code",
   "execution_count": 13,
   "metadata": {
    "colab": {
     "base_uri": "https://localhost:8080/",
     "height": 252
    },
    "executionInfo": {
     "elapsed": 8,
     "status": "ok",
     "timestamp": 1637141055274,
     "user": {
      "displayName": "陳冠志",
      "photoUrl": "https://lh3.googleusercontent.com/a/default-user=s64",
      "userId": "16295790873122194562"
     },
     "user_tz": -480
    },
    "id": "-dbi4LrGTVM7",
    "outputId": "c6ca3b73-e1c4-40b9-8e5e-631e6dd8e0b5"
   },
   "outputs": [
    {
     "name": "stdout",
     "output_type": "stream",
     "text": [
      "(1200, 5)\n"
     ]
    },
    {
     "data": {
      "text/html": [
       "<div>\n",
       "<style scoped>\n",
       "    .dataframe tbody tr th:only-of-type {\n",
       "        vertical-align: middle;\n",
       "    }\n",
       "\n",
       "    .dataframe tbody tr th {\n",
       "        vertical-align: top;\n",
       "    }\n",
       "\n",
       "    .dataframe thead th {\n",
       "        text-align: right;\n",
       "    }\n",
       "</style>\n",
       "<table border=\"1\" class=\"dataframe\">\n",
       "  <thead>\n",
       "    <tr style=\"text-align: right;\">\n",
       "      <th></th>\n",
       "      <th>Negative</th>\n",
       "      <th>Typical</th>\n",
       "      <th>Atypical</th>\n",
       "      <th>filename</th>\n",
       "      <th>class</th>\n",
       "    </tr>\n",
       "    <tr>\n",
       "      <th>FileID</th>\n",
       "      <th></th>\n",
       "      <th></th>\n",
       "      <th></th>\n",
       "      <th></th>\n",
       "      <th></th>\n",
       "    </tr>\n",
       "  </thead>\n",
       "  <tbody>\n",
       "    <tr>\n",
       "      <th>bd6854b1a5c2</th>\n",
       "      <td>0</td>\n",
       "      <td>1</td>\n",
       "      <td>0</td>\n",
       "      <td>./data/data/train/200238f5e3a0/0475b3c0444d/bd...</td>\n",
       "      <td>Typical</td>\n",
       "    </tr>\n",
       "    <tr>\n",
       "      <th>4f98ad71a739</th>\n",
       "      <td>0</td>\n",
       "      <td>0</td>\n",
       "      <td>1</td>\n",
       "      <td>./data/data/train/5d28267795b8/05d6617ead55/4f...</td>\n",
       "      <td>Atypical</td>\n",
       "    </tr>\n",
       "    <tr>\n",
       "      <th>3180ed684d91</th>\n",
       "      <td>1</td>\n",
       "      <td>0</td>\n",
       "      <td>0</td>\n",
       "      <td>./data/data/train/d580f1339930/3d341e533c68/31...</td>\n",
       "      <td>Negative</td>\n",
       "    </tr>\n",
       "    <tr>\n",
       "      <th>309a6770492b</th>\n",
       "      <td>0</td>\n",
       "      <td>1</td>\n",
       "      <td>0</td>\n",
       "      <td>./data/data/train/4c3764930e27/7230457f767a/30...</td>\n",
       "      <td>Typical</td>\n",
       "    </tr>\n",
       "    <tr>\n",
       "      <th>75f2e2a4dfc4</th>\n",
       "      <td>1</td>\n",
       "      <td>0</td>\n",
       "      <td>0</td>\n",
       "      <td>./data/data/train/a790956c8287/4b6f5164e3f2/75...</td>\n",
       "      <td>Negative</td>\n",
       "    </tr>\n",
       "  </tbody>\n",
       "</table>\n",
       "</div>"
      ],
      "text/plain": [
       "              Negative  Typical  Atypical  \\\n",
       "FileID                                      \n",
       "bd6854b1a5c2         0        1         0   \n",
       "4f98ad71a739         0        0         1   \n",
       "3180ed684d91         1        0         0   \n",
       "309a6770492b         0        1         0   \n",
       "75f2e2a4dfc4         1        0         0   \n",
       "\n",
       "                                                       filename     class  \n",
       "FileID                                                                     \n",
       "bd6854b1a5c2  ./data/data/train/200238f5e3a0/0475b3c0444d/bd...   Typical  \n",
       "4f98ad71a739  ./data/data/train/5d28267795b8/05d6617ead55/4f...  Atypical  \n",
       "3180ed684d91  ./data/data/train/d580f1339930/3d341e533c68/31...  Negative  \n",
       "309a6770492b  ./data/data/train/4c3764930e27/7230457f767a/30...   Typical  \n",
       "75f2e2a4dfc4  ./data/data/train/a790956c8287/4b6f5164e3f2/75...  Negative  "
      ]
     },
     "execution_count": 13,
     "metadata": {},
     "output_type": "execute_result"
    }
   ],
   "source": [
    "df_info  = pd.read_csv(os.path.join(dataspace,'data_info.csv'),index_col='FileID')\n",
    "df_info = df_info.loc[file_name]\n",
    "df_info['filename'] = DCMFiles\n",
    "df_info.loc[df_info['Negative']==1,'class'] = 'Negative'\n",
    "df_info.loc[df_info['Typical']==1,'class'] = 'Typical'\n",
    "df_info.loc[df_info['Atypical']==1,'class'] = 'Atypical'\n",
    "print(df_info.shape)\n",
    "df_info.head()\n"
   ]
  },
  {
   "cell_type": "code",
   "execution_count": 14,
   "metadata": {
    "executionInfo": {
     "elapsed": 8,
     "status": "ok",
     "timestamp": 1637141055277,
     "user": {
      "displayName": "陳冠志",
      "photoUrl": "https://lh3.googleusercontent.com/a/default-user=s64",
      "userId": "16295790873122194562"
     },
     "user_tz": -480
    },
    "id": "mI25Ht-KnCoh"
   },
   "outputs": [],
   "source": [
    "import cv2\n",
    "import pydicom\n",
    "import numpy as np\n",
    "def normalize(image_array):\n",
    "  return (image_array - np.mean(image_array)) / (np.std(image_array - np.mean(image_array))) \n",
    "\n",
    "def DICOM_image(data_path):\n",
    "  return pydicom.dcmread(dcm_path).pixel_array"
   ]
  },
  {
   "cell_type": "code",
   "execution_count": 15,
   "metadata": {
    "colab": {
     "base_uri": "https://localhost:8080/"
    },
    "executionInfo": {
     "elapsed": 1757,
     "status": "ok",
     "timestamp": 1637141057027,
     "user": {
      "displayName": "陳冠志",
      "photoUrl": "https://lh3.googleusercontent.com/a/default-user=s64",
      "userId": "16295790873122194562"
     },
     "user_tz": -480
    },
    "id": "-125B3VAAGFD",
    "outputId": "855a89ec-a0f9-470b-9a6b-ff3b3abf76a2"
   },
   "outputs": [
    {
     "name": "stdout",
     "output_type": "stream",
     "text": [
      "Found 960 validated image filenames.\n",
      "Found 240 validated image filenames.\n"
     ]
    }
   ],
   "source": [
    "train_generator = DCMDataFrameIterator(\n",
    "                             dataframe=df_info,\n",
    "                             x_col='filename',\n",
    "                             y_col=[\"Negative\", \"Typical\",\t\"Atypical\"],\n",
    "                            #  y_col='class',\n",
    "                             image_data_generator=train_augmenter,\n",
    "                             **train_consts)\n",
    "\n",
    "valid_generator = DCMDataFrameIterator(\n",
    "                             dataframe=df_info,\n",
    "                             x_col='filename',\n",
    "                             y_col=[\"Negative\", \"Typical\",\t\"Atypical\"],\n",
    "                            #  y_col='class',\n",
    "                             image_data_generator=valid_augmenter,\n",
    "                             **valid_consts)"
   ]
  },
  {
   "cell_type": "code",
   "execution_count": 16,
   "metadata": {
    "executionInfo": {
     "elapsed": 440,
     "status": "ok",
     "timestamp": 1637141052726,
     "user": {
      "displayName": "陳冠志",
      "photoUrl": "https://lh3.googleusercontent.com/a/default-user=s64",
      "userId": "16295790873122194562"
     },
     "user_tz": -480
    },
    "id": "cnHfOqN3RiLV"
   },
   "outputs": [
    {
     "data": {
      "text/plain": [
       "['9261f2b83b31',\n",
       " '320b1751917e',\n",
       " '98f92434f32c',\n",
       " 'a93048663f63',\n",
       " '3984c6464e79',\n",
       " '82f7010e0302',\n",
       " '6542cfb29498',\n",
       " '9b3948685c9d',\n",
       " '432a4f610377',\n",
       " 'd07f22c3e616']"
      ]
     },
     "execution_count": 16,
     "metadata": {},
     "output_type": "execute_result"
    }
   ],
   "source": [
    "imagepath=os.path.join(dataspace,'data','data','valid')\n",
    "os.listdir(imagepath)[:10]"
   ]
  },
  {
   "cell_type": "code",
   "execution_count": 17,
   "metadata": {
    "colab": {
     "base_uri": "https://localhost:8080/"
    },
    "executionInfo": {
     "elapsed": 2153,
     "status": "ok",
     "timestamp": 1637141054876,
     "user": {
      "displayName": "陳冠志",
      "photoUrl": "https://lh3.googleusercontent.com/a/default-user=s64",
      "userId": "16295790873122194562"
     },
     "user_tz": -480
    },
    "id": "rsjxa82WRnpT",
    "outputId": "388b54b4-abf1-49ac-8905-1cdd7d1f8414"
   },
   "outputs": [
    {
     "name": "stdout",
     "output_type": "stream",
     "text": [
      "Number of (.dcm) files = 150\n"
     ]
    },
    {
     "data": {
      "text/plain": [
       "['./data/data/valid/9261f2b83b31/0155b26237ce/0f30ecaf1e42.dcm',\n",
       " './data/data/valid/320b1751917e/85bd059a7b8c/383c177fdfa3.dcm',\n",
       " './data/data/valid/98f92434f32c/82201da05577/883d3e798939.dcm',\n",
       " './data/data/valid/a93048663f63/713a9950ca3a/b4cab73348f4.dcm',\n",
       " './data/data/valid/3984c6464e79/0c9031a0f654/6fe28c9fd729.dcm']"
      ]
     },
     "execution_count": 17,
     "metadata": {},
     "output_type": "execute_result"
    }
   ],
   "source": [
    "DCMFiles = [] \n",
    "file_name = []\n",
    "for dirName, subdirList, fileList in os.walk(imagepath):\n",
    "  for filename in fileList:\n",
    "    if \".dcm\" in filename.lower():\n",
    "      file_name.append(filename[:-4])\n",
    "      DCMFiles.append(os.path.join(dirName,filename))\n",
    "print(\"Number of (.dcm) files =\", len(DCMFiles))\n",
    "DCMFiles[:5]"
   ]
  },
  {
   "cell_type": "code",
   "execution_count": 18,
   "metadata": {},
   "outputs": [
    {
     "name": "stdout",
     "output_type": "stream",
     "text": [
      "(150, 4)\n"
     ]
    },
    {
     "data": {
      "text/html": [
       "<div>\n",
       "<style scoped>\n",
       "    .dataframe tbody tr th:only-of-type {\n",
       "        vertical-align: middle;\n",
       "    }\n",
       "\n",
       "    .dataframe tbody tr th {\n",
       "        vertical-align: top;\n",
       "    }\n",
       "\n",
       "    .dataframe thead th {\n",
       "        text-align: right;\n",
       "    }\n",
       "</style>\n",
       "<table border=\"1\" class=\"dataframe\">\n",
       "  <thead>\n",
       "    <tr style=\"text-align: right;\">\n",
       "      <th></th>\n",
       "      <th>filename</th>\n",
       "      <th>Negative</th>\n",
       "      <th>Typical</th>\n",
       "      <th>Atypical</th>\n",
       "    </tr>\n",
       "    <tr>\n",
       "      <th>FileID</th>\n",
       "      <th></th>\n",
       "      <th></th>\n",
       "      <th></th>\n",
       "      <th></th>\n",
       "    </tr>\n",
       "  </thead>\n",
       "  <tbody>\n",
       "    <tr>\n",
       "      <th>0f30ecaf1e42</th>\n",
       "      <td>./data/data/valid/9261f2b83b31/0155b26237ce/0f...</td>\n",
       "      <td>0</td>\n",
       "      <td>0</td>\n",
       "      <td>0</td>\n",
       "    </tr>\n",
       "    <tr>\n",
       "      <th>383c177fdfa3</th>\n",
       "      <td>./data/data/valid/320b1751917e/85bd059a7b8c/38...</td>\n",
       "      <td>0</td>\n",
       "      <td>0</td>\n",
       "      <td>0</td>\n",
       "    </tr>\n",
       "    <tr>\n",
       "      <th>883d3e798939</th>\n",
       "      <td>./data/data/valid/98f92434f32c/82201da05577/88...</td>\n",
       "      <td>0</td>\n",
       "      <td>0</td>\n",
       "      <td>0</td>\n",
       "    </tr>\n",
       "    <tr>\n",
       "      <th>b4cab73348f4</th>\n",
       "      <td>./data/data/valid/a93048663f63/713a9950ca3a/b4...</td>\n",
       "      <td>0</td>\n",
       "      <td>0</td>\n",
       "      <td>0</td>\n",
       "    </tr>\n",
       "    <tr>\n",
       "      <th>6fe28c9fd729</th>\n",
       "      <td>./data/data/valid/3984c6464e79/0c9031a0f654/6f...</td>\n",
       "      <td>0</td>\n",
       "      <td>0</td>\n",
       "      <td>0</td>\n",
       "    </tr>\n",
       "  </tbody>\n",
       "</table>\n",
       "</div>"
      ],
      "text/plain": [
       "                                                       filename  Negative  \\\n",
       "FileID                                                                      \n",
       "0f30ecaf1e42  ./data/data/valid/9261f2b83b31/0155b26237ce/0f...         0   \n",
       "383c177fdfa3  ./data/data/valid/320b1751917e/85bd059a7b8c/38...         0   \n",
       "883d3e798939  ./data/data/valid/98f92434f32c/82201da05577/88...         0   \n",
       "b4cab73348f4  ./data/data/valid/a93048663f63/713a9950ca3a/b4...         0   \n",
       "6fe28c9fd729  ./data/data/valid/3984c6464e79/0c9031a0f654/6f...         0   \n",
       "\n",
       "              Typical  Atypical  \n",
       "FileID                           \n",
       "0f30ecaf1e42        0         0  \n",
       "383c177fdfa3        0         0  \n",
       "883d3e798939        0         0  \n",
       "b4cab73348f4        0         0  \n",
       "6fe28c9fd729        0         0  "
      ]
     },
     "execution_count": 18,
     "metadata": {},
     "output_type": "execute_result"
    }
   ],
   "source": [
    "df_test = pd.DataFrame()\n",
    "df_test['FileID'] = file_name\n",
    "df_test = df_test.set_index('FileID')\n",
    "df_test['filename'] = DCMFiles\n",
    "df_test['Negative'] = 0\n",
    "df_test['Typical'] = 0\n",
    "df_test['Atypical'] = 0\n",
    "\n",
    "print(df_test.shape)\n",
    "df_test.head()"
   ]
  },
  {
   "cell_type": "code",
   "execution_count": 19,
   "metadata": {},
   "outputs": [
    {
     "name": "stdout",
     "output_type": "stream",
     "text": [
      "Found 150 validated image filenames.\n"
     ]
    }
   ],
   "source": [
    "test_generator = DCMDataFrameIterator(\n",
    "                             dataframe=df_test,\n",
    "                             x_col='filename',\n",
    "                             y_col=[\"Negative\", \"Typical\",\t\"Atypical\"],\n",
    "                            #  y_col='class',\n",
    "                             image_data_generator=test_augmenter,\n",
    "                             **test_consts)"
   ]
  },
  {
   "cell_type": "code",
   "execution_count": 20,
   "metadata": {
    "colab": {
     "base_uri": "https://localhost:8080/",
     "height": 252
    },
    "executionInfo": {
     "elapsed": 8,
     "status": "ok",
     "timestamp": 1637141055274,
     "user": {
      "displayName": "陳冠志",
      "photoUrl": "https://lh3.googleusercontent.com/a/default-user=s64",
      "userId": "16295790873122194562"
     },
     "user_tz": -480
    },
    "id": "-dbi4LrGTVM7",
    "outputId": "c6ca3b73-e1c4-40b9-8e5e-631e6dd8e0b5"
   },
   "outputs": [],
   "source": [
    "# df_info  = pd.read_csv(os.path.join(dataspace,'data_info.csv'),index_col='FileID')\n",
    "# df_info = df_info.loc[file_name]\n",
    "# df_info['filename'] = DCMFiles\n",
    "# df_info.loc[df_info['Negative']==1,'class'] = 'Negative'\n",
    "# df_info.loc[df_info['Typical']==1,'class'] = 'Typical'\n",
    "# df_info.loc[df_info['Atypical']==1,'class'] = 'Atypical'\n",
    "# print(df_info.shape)\n",
    "# df_info.head()\n"
   ]
  },
  {
   "cell_type": "code",
   "execution_count": 21,
   "metadata": {
    "executionInfo": {
     "elapsed": 5238,
     "status": "ok",
     "timestamp": 1637141062261,
     "user": {
      "displayName": "陳冠志",
      "photoUrl": "https://lh3.googleusercontent.com/a/default-user=s64",
      "userId": "16295790873122194562"
     },
     "user_tz": -480
    },
    "id": "DJsljAQk6r_-"
   },
   "outputs": [],
   "source": [
    "temp_image, temp_class = train_generator.next()\n",
    "# train_generator\n",
    "train_generator.reset()"
   ]
  },
  {
   "cell_type": "code",
   "execution_count": 22,
   "metadata": {
    "colab": {
     "base_uri": "https://localhost:8080/"
    },
    "executionInfo": {
     "elapsed": 20,
     "status": "ok",
     "timestamp": 1637141062262,
     "user": {
      "displayName": "陳冠志",
      "photoUrl": "https://lh3.googleusercontent.com/a/default-user=s64",
      "userId": "16295790873122194562"
     },
     "user_tz": -480
    },
    "id": "z-L7pCXAFj8f",
    "outputId": "cc07e701-ba9f-4a0e-a474-e902634c4c15"
   },
   "outputs": [
    {
     "data": {
      "text/plain": [
       "(30, 128, 128, 3)"
      ]
     },
     "execution_count": 22,
     "metadata": {},
     "output_type": "execute_result"
    }
   ],
   "source": [
    "# np.squeeze(temp_image[i], axis=(2,)).shape\n",
    "Image_size = temp_image.shape[1:]\n",
    "temp_image.shape"
   ]
  },
  {
   "cell_type": "code",
   "execution_count": 23,
   "metadata": {},
   "outputs": [
    {
     "name": "stderr",
     "output_type": "stream",
     "text": [
      "<ipython-input-23-d133613b8e9a>:3: DeprecationWarning: In future, it will be an error for 'np.bool_' scalars to be interpreted as an index\n",
      "  temp_class = [list_class[i==1] for i in np.argmax(temp_class,axis=1)]\n"
     ]
    }
   ],
   "source": [
    "list_class = [\"Negative\", \"Typical\", \"Atypical\"]\n",
    "\n",
    "temp_class = [list_class[i==1] for i in np.argmax(temp_class,axis=1)]"
   ]
  },
  {
   "cell_type": "code",
   "execution_count": 24,
   "metadata": {},
   "outputs": [
    {
     "data": {
      "text/plain": [
       "array([[[0., 0., 0.],\n",
       "        [0., 0., 0.],\n",
       "        [0., 0., 0.],\n",
       "        ...,\n",
       "        [0., 0., 0.],\n",
       "        [0., 0., 0.],\n",
       "        [0., 0., 0.]],\n",
       "\n",
       "       [[0., 0., 0.],\n",
       "        [0., 0., 0.],\n",
       "        [0., 0., 0.],\n",
       "        ...,\n",
       "        [0., 0., 0.],\n",
       "        [0., 0., 0.],\n",
       "        [0., 0., 0.]],\n",
       "\n",
       "       [[0., 0., 0.],\n",
       "        [0., 0., 0.],\n",
       "        [0., 0., 0.],\n",
       "        ...,\n",
       "        [0., 0., 0.],\n",
       "        [0., 0., 0.],\n",
       "        [0., 0., 0.]],\n",
       "\n",
       "       ...,\n",
       "\n",
       "       [[0., 0., 0.],\n",
       "        [0., 0., 0.],\n",
       "        [0., 0., 0.],\n",
       "        ...,\n",
       "        [0., 0., 0.],\n",
       "        [0., 0., 0.],\n",
       "        [0., 0., 0.]],\n",
       "\n",
       "       [[0., 0., 0.],\n",
       "        [0., 0., 0.],\n",
       "        [0., 0., 0.],\n",
       "        ...,\n",
       "        [0., 0., 0.],\n",
       "        [0., 0., 0.],\n",
       "        [0., 0., 0.]],\n",
       "\n",
       "       [[0., 0., 0.],\n",
       "        [0., 0., 0.],\n",
       "        [0., 0., 0.],\n",
       "        ...,\n",
       "        [0., 0., 0.],\n",
       "        [0., 0., 0.],\n",
       "        [0., 0., 0.]]])"
      ]
     },
     "execution_count": 24,
     "metadata": {},
     "output_type": "execute_result"
    }
   ],
   "source": [
    "temp_image[1]"
   ]
  },
  {
   "cell_type": "code",
   "execution_count": 25,
   "metadata": {
    "colab": {
     "base_uri": "https://localhost:8080/",
     "height": 575
    },
    "executionInfo": {
     "elapsed": 1155,
     "status": "ok",
     "timestamp": 1637141063401,
     "user": {
      "displayName": "陳冠志",
      "photoUrl": "https://lh3.googleusercontent.com/a/default-user=s64",
      "userId": "16295790873122194562"
     },
     "user_tz": -480
    },
    "id": "sXptksH9bukE",
    "outputId": "abb3b11b-75cc-478b-d32e-a275c79d898a"
   },
   "outputs": [
    {
     "data": {
      "image/png": "[encoded data removed]",
      "text/plain": [
       "<Figure size 720x720 with 9 Axes>"
      ]
     },
     "metadata": {
      "needs_background": "light"
     },
     "output_type": "display_data"
    }
   ],
   "source": [
    "# class_names = train_generator.classes\n",
    "\n",
    "plt.figure(figsize=(10, 10))\n",
    "for i in range(9):\n",
    "    ax = plt.subplot(3, 3, i + 1)\n",
    "#     plt.imshow(np.squeeze(temp_image[i], axis=(2,)), cmap='gray')\n",
    "    plt.imshow(np.squeeze(temp_image[i]).astype(\"uint8\"))\n",
    "    plt.title(temp_class[i])\n",
    "    plt.axis(\"off\")"
   ]
  },
  {
   "cell_type": "markdown",
   "metadata": {
    "id": "adAsa0s3xozK"
   },
   "source": [
    "## model"
   ]
  },
  {
   "cell_type": "code",
   "execution_count": 26,
   "metadata": {
    "executionInfo": {
     "elapsed": 17,
     "status": "ok",
     "timestamp": 1637141063403,
     "user": {
      "displayName": "陳冠志",
      "photoUrl": "https://lh3.googleusercontent.com/a/default-user=s64",
      "userId": "16295790873122194562"
     },
     "user_tz": -480
    },
    "id": "s1A7uDQfFqbB"
   },
   "outputs": [],
   "source": [
    "from tensorflow.keras import Sequential\n",
    "from tensorflow.keras.layers import Input, Dense, Conv2D, Dropout, Flatten, MaxPool2D, BatchNormalization"
   ]
  },
  {
   "cell_type": "code",
   "execution_count": 27,
   "metadata": {},
   "outputs": [],
   "source": [
    "base_model = tf.keras.applications.inception_v3.InceptionV3(input_shape=Image_size,\n",
    "                                                            include_top=False,\n",
    "                                                            weights='imagenet',\n",
    "                                                            classes=3,\n",
    "                                                            classifier_activation=\"softmax\")\n",
    "# base_model.trainable = False\n",
    "# base_model.summary()"
   ]
  },
  {
   "cell_type": "code",
   "execution_count": 28,
   "metadata": {},
   "outputs": [],
   "source": [
    "for layer in base_model.layers[:11]:\n",
    "    layer.trainable = False"
   ]
  },
  {
   "cell_type": "code",
   "execution_count": 29,
   "metadata": {},
   "outputs": [
    {
     "name": "stdout",
     "output_type": "stream",
     "text": [
      "(30, 2, 2, 2048)\n"
     ]
    }
   ],
   "source": [
    "image_batch, label_batch = next(iter(train_generator))\n",
    "feature_batch = base_model(image_batch)\n",
    "print(feature_batch.shape)"
   ]
  },
  {
   "cell_type": "code",
   "execution_count": 30,
   "metadata": {},
   "outputs": [
    {
     "name": "stdout",
     "output_type": "stream",
     "text": [
      "(30, 2048)\n"
     ]
    }
   ],
   "source": [
    "global_average_layer = tf.keras.layers.GlobalAveragePooling2D()\n",
    "feature_batch_average = global_average_layer(feature_batch)\n",
    "print(feature_batch_average.shape)"
   ]
  },
  {
   "cell_type": "code",
   "execution_count": 31,
   "metadata": {},
   "outputs": [
    {
     "name": "stdout",
     "output_type": "stream",
     "text": [
      "(30, 3)\n"
     ]
    }
   ],
   "source": [
    "prediction_layer = tf.keras.Sequential([\n",
    "    tf.keras.layers.Dense(3)\n",
    "])\n",
    "prediction_batch = prediction_layer(feature_batch_average)\n",
    "print(prediction_batch.shape)"
   ]
  },
  {
   "cell_type": "code",
   "execution_count": 32,
   "metadata": {},
   "outputs": [],
   "source": [
    "data_augmentation = tf.keras.Sequential([\n",
    "    tf.keras.layers.RandomFlip('horizontal'),\n",
    "    tf.keras.layers.RandomRotation(0.2),\n",
    "#     tf.keras.layers.RandomZoom(0.2),\n",
    "#     tf.keras.layers.RandomContrast()\n",
    "])\n",
    "# preprocess_input = tf.keras.applications.inception_v3.preprocess_input"
   ]
  },
  {
   "cell_type": "code",
   "execution_count": 33,
   "metadata": {},
   "outputs": [],
   "source": [
    "inputs = tf.keras.Input(shape=Image_size)\n",
    "# x = data_augmentation(inputs)\n",
    "# x = preprocess_input(inputs)\n",
    "x = base_model(inputs, training=False)\n",
    "x = global_average_layer(x)\n",
    "x = tf.keras.layers.Dropout(0.2)(x)\n",
    "outputs = prediction_layer(x)\n",
    "model = tf.keras.Model(inputs, outputs)"
   ]
  },
  {
   "cell_type": "code",
   "execution_count": 34,
   "metadata": {},
   "outputs": [
    {
     "name": "stdout",
     "output_type": "stream",
     "text": [
      "Model: \"model\"\n",
      "_________________________________________________________________\n",
      " Layer (type)                Output Shape              Param #   \n",
      "=================================================================\n",
      " input_2 (InputLayer)        [(None, 128, 128, 3)]     0         \n",
      "                                                                 \n",
      " inception_v3 (Functional)   (None, 2, 2, 2048)        21802784  \n",
      "                                                                 \n",
      " global_average_pooling2d (G  (None, 2048)             0         \n",
      " lobalAveragePooling2D)                                          \n",
      "                                                                 \n",
      " dropout (Dropout)           (None, 2048)              0         \n",
      "                                                                 \n",
      " sequential (Sequential)     (None, 3)                 6147      \n",
      "                                                                 \n",
      "=================================================================\n",
      "Total params: 21,808,931\n",
      "Trainable params: 21,745,859\n",
      "Non-trainable params: 63,072\n",
      "_________________________________________________________________\n"
     ]
    }
   ],
   "source": [
    "# base_model.outputs\n",
    "model.summary()"
   ]
  },
  {
   "cell_type": "code",
   "execution_count": 35,
   "metadata": {
    "colab": {
     "base_uri": "https://localhost:8080/"
    },
    "executionInfo": {
     "elapsed": 19,
     "status": "ok",
     "timestamp": 1637141063816,
     "user": {
      "displayName": "陳冠志",
      "photoUrl": "https://lh3.googleusercontent.com/a/default-user=s64",
      "userId": "16295790873122194562"
     },
     "user_tz": -480
    },
    "id": "XmYOq7kVORyI",
    "outputId": "65a0a1fc-2bd0-4373-f908-b9f6cca69da6"
   },
   "outputs": [
    {
     "name": "stderr",
     "output_type": "stream",
     "text": [
      "/home/ken/anaconda3/lib/python3.8/site-packages/keras/optimizer_v2/adam.py:105: UserWarning: The `lr` argument is deprecated, use `learning_rate` instead.\n",
      "  super(Adam, self).__init__(name, **kwargs)\n",
      "/home/ken/anaconda3/lib/python3.8/site-packages/keras/optimizer_v2/gradient_descent.py:102: UserWarning: The `lr` argument is deprecated, use `learning_rate` instead.\n",
      "  super(SGD, self).__init__(name, **kwargs)\n"
     ]
    }
   ],
   "source": [
    "from tensorflow.keras.optimizers import Adam, SGD\n",
    "adam = Adam(lr=0.0001)\n",
    "sgd = SGD(lr=0.0001)\n",
    "\n",
    "model.compile(loss='categorical_crossentropy',\n",
    "              optimizer=sgd,\n",
    "              metrics=['accuracy'])"
   ]
  },
  {
   "cell_type": "code",
   "execution_count": 36,
   "metadata": {
    "colab": {
     "base_uri": "https://localhost:8080/"
    },
    "executionInfo": {
     "elapsed": 15,
     "status": "ok",
     "timestamp": 1637141063816,
     "user": {
      "displayName": "陳冠志",
      "photoUrl": "https://lh3.googleusercontent.com/a/default-user=s64",
      "userId": "16295790873122194562"
     },
     "user_tz": -480
    },
    "id": "zlqjOuxdC2A8",
    "outputId": "5f8d7345-7bd3-46f7-a97c-f1374849d574"
   },
   "outputs": [
    {
     "name": "stdout",
     "output_type": "stream",
     "text": [
      "Model: \"model\"\n",
      "_________________________________________________________________\n",
      " Layer (type)                Output Shape              Param #   \n",
      "=================================================================\n",
      " input_2 (InputLayer)        [(None, 128, 128, 3)]     0         \n",
      "                                                                 \n",
      " inception_v3 (Functional)   (None, 2, 2, 2048)        21802784  \n",
      "                                                                 \n",
      " global_average_pooling2d (G  (None, 2048)             0         \n",
      " lobalAveragePooling2D)                                          \n",
      "                                                                 \n",
      " dropout (Dropout)           (None, 2048)              0         \n",
      "                                                                 \n",
      " sequential (Sequential)     (None, 3)                 6147      \n",
      "                                                                 \n",
      "=================================================================\n",
      "Total params: 21,808,931\n",
      "Trainable params: 21,745,859\n",
      "Non-trainable params: 63,072\n",
      "_________________________________________________________________\n"
     ]
    }
   ],
   "source": [
    "model.summary()"
   ]
  },
  {
   "cell_type": "code",
   "execution_count": 37,
   "metadata": {
    "colab": {
     "base_uri": "https://localhost:8080/"
    },
    "id": "bTDMinKW_6RU",
    "outputId": "33803b0e-0434-4ab6-c90f-c35983e8c458"
   },
   "outputs": [
    {
     "name": "stderr",
     "output_type": "stream",
     "text": [
      "<ipython-input-37-48c2e5c40cdb>:10: UserWarning: `Model.fit_generator` is deprecated and will be removed in a future version. Please use `Model.fit`, which supports generators.\n",
      "  train_history = model.fit_generator(\n"
     ]
    },
    {
     "name": "stdout",
     "output_type": "stream",
     "text": [
      "Epoch 1/200\n",
      "32/32 [==============================] - ETA: 0s - loss: 1.5686 - accuracy: 0.3417\n",
      "Epoch 00001: saving model to ./output/version7/model.h5\n",
      "32/32 [==============================] - 34s 872ms/step - loss: 1.5686 - accuracy: 0.3417 - val_loss: 1.0811 - val_accuracy: 0.4292\n",
      "Epoch 2/200\n",
      "32/32 [==============================] - ETA: 0s - loss: 1.1045 - accuracy: 0.3313\n",
      "Epoch 00002: saving model to ./output/version7/model.h5\n",
      "32/32 [==============================] - 22s 699ms/step - loss: 1.1045 - accuracy: 0.3313 - val_loss: 1.0801 - val_accuracy: 0.4292\n",
      "Epoch 3/200\n",
      "32/32 [==============================] - ETA: 0s - loss: 1.1188 - accuracy: 0.3760\n",
      "Epoch 00003: saving model to ./output/version7/model.h5\n",
      "32/32 [==============================] - 22s 695ms/step - loss: 1.1188 - accuracy: 0.3760 - val_loss: 1.0838 - val_accuracy: 0.4292\n",
      "Epoch 4/200\n",
      "32/32 [==============================] - ETA: 0s - loss: 1.0923 - accuracy: 0.3552\n",
      "Epoch 00004: saving model to ./output/version7/model.h5\n",
      "32/32 [==============================] - 22s 680ms/step - loss: 1.0923 - accuracy: 0.3552 - val_loss: 1.0731 - val_accuracy: 0.4375\n",
      "Epoch 5/200\n",
      "32/32 [==============================] - ETA: 0s - loss: 1.0807 - accuracy: 0.4125\n",
      "Epoch 00005: saving model to ./output/version7/model.h5\n",
      "32/32 [==============================] - 25s 796ms/step - loss: 1.0807 - accuracy: 0.4125 - val_loss: 1.0757 - val_accuracy: 0.4292\n",
      "Epoch 6/200\n",
      "32/32 [==============================] - ETA: 0s - loss: 1.0737 - accuracy: 0.4271\n",
      "Epoch 00006: saving model to ./output/version7/model.h5\n",
      "32/32 [==============================] - 23s 711ms/step - loss: 1.0737 - accuracy: 0.4271 - val_loss: 1.0828 - val_accuracy: 0.4208\n",
      "Epoch 7/200\n",
      "32/32 [==============================] - ETA: 0s - loss: 1.0761 - accuracy: 0.3969\n",
      "Epoch 00007: saving model to ./output/version7/model.h5\n",
      "32/32 [==============================] - 22s 683ms/step - loss: 1.0761 - accuracy: 0.3969 - val_loss: 1.0716 - val_accuracy: 0.4333\n",
      "Epoch 8/200\n",
      "32/32 [==============================] - ETA: 0s - loss: 1.0522 - accuracy: 0.4323\n",
      "Epoch 00008: saving model to ./output/version7/model.h5\n",
      "32/32 [==============================] - 22s 697ms/step - loss: 1.0522 - accuracy: 0.4323 - val_loss: 1.0752 - val_accuracy: 0.4083\n",
      "Epoch 9/200\n",
      "32/32 [==============================] - ETA: 0s - loss: 1.0688 - accuracy: 0.4302\n",
      "Epoch 00009: saving model to ./output/version7/model.h5\n",
      "32/32 [==============================] - 21s 656ms/step - loss: 1.0688 - accuracy: 0.4302 - val_loss: 1.0850 - val_accuracy: 0.4417\n",
      "Epoch 10/200\n",
      "32/32 [==============================] - ETA: 0s - loss: 1.0665 - accuracy: 0.4260\n",
      "Epoch 00010: saving model to ./output/version7/model.h5\n",
      "32/32 [==============================] - 22s 691ms/step - loss: 1.0665 - accuracy: 0.4260 - val_loss: 1.0689 - val_accuracy: 0.4167\n",
      "Epoch 11/200\n",
      "32/32 [==============================] - ETA: 0s - loss: 1.0634 - accuracy: 0.4167\n",
      "Epoch 00011: saving model to ./output/version7/model.h5\n",
      "32/32 [==============================] - 22s 682ms/step - loss: 1.0634 - accuracy: 0.4167 - val_loss: 1.0642 - val_accuracy: 0.4583\n",
      "Epoch 12/200\n",
      "32/32 [==============================] - ETA: 0s - loss: 1.0692 - accuracy: 0.4135\n",
      "Epoch 00012: saving model to ./output/version7/model.h5\n",
      "32/32 [==============================] - 24s 739ms/step - loss: 1.0692 - accuracy: 0.4135 - val_loss: 1.0674 - val_accuracy: 0.4417\n",
      "Epoch 13/200\n",
      "32/32 [==============================] - ETA: 0s - loss: 1.1438 - accuracy: 0.3417\n",
      "Epoch 00013: saving model to ./output/version7/model.h5\n",
      "32/32 [==============================] - 26s 816ms/step - loss: 1.1438 - accuracy: 0.3417 - val_loss: 1.0919 - val_accuracy: 0.4083\n",
      "Epoch 14/200\n",
      "32/32 [==============================] - ETA: 0s - loss: 1.1036 - accuracy: 0.3771\n",
      "Epoch 00014: saving model to ./output/version7/model.h5\n",
      "32/32 [==============================] - 23s 719ms/step - loss: 1.1036 - accuracy: 0.3771 - val_loss: 1.0873 - val_accuracy: 0.3792\n",
      "Epoch 15/200\n",
      "32/32 [==============================] - ETA: 0s - loss: 1.0936 - accuracy: 0.3688\n",
      "Epoch 00015: saving model to ./output/version7/model.h5\n",
      "32/32 [==============================] - 23s 707ms/step - loss: 1.0936 - accuracy: 0.3688 - val_loss: 1.0821 - val_accuracy: 0.4458\n",
      "Epoch 16/200\n",
      "32/32 [==============================] - ETA: 0s - loss: 1.0916 - accuracy: 0.3656\n",
      "Epoch 00016: saving model to ./output/version7/model.h5\n",
      "32/32 [==============================] - 22s 694ms/step - loss: 1.0916 - accuracy: 0.3656 - val_loss: 1.0804 - val_accuracy: 0.4375\n",
      "Epoch 17/200\n",
      "32/32 [==============================] - ETA: 0s - loss: 1.0943 - accuracy: 0.3948\n",
      "Epoch 00017: saving model to ./output/version7/model.h5\n",
      "32/32 [==============================] - 23s 706ms/step - loss: 1.0943 - accuracy: 0.3948 - val_loss: 1.0740 - val_accuracy: 0.4417\n",
      "Epoch 18/200\n",
      "32/32 [==============================] - ETA: 0s - loss: 1.0778 - accuracy: 0.4052\n",
      "Epoch 00018: saving model to ./output/version7/model.h5\n",
      "32/32 [==============================] - 24s 740ms/step - loss: 1.0778 - accuracy: 0.4052 - val_loss: 1.0713 - val_accuracy: 0.4292\n",
      "Epoch 19/200\n",
      "32/32 [==============================] - ETA: 0s - loss: 1.0873 - accuracy: 0.3750\n",
      "Epoch 00019: saving model to ./output/version7/model.h5\n",
      "32/32 [==============================] - 25s 794ms/step - loss: 1.0873 - accuracy: 0.3750 - val_loss: 1.0733 - val_accuracy: 0.4458\n",
      "Epoch 20/200\n",
      "32/32 [==============================] - ETA: 0s - loss: 1.0629 - accuracy: 0.4365\n",
      "Epoch 00020: saving model to ./output/version7/model.h5\n",
      "32/32 [==============================] - 22s 698ms/step - loss: 1.0629 - accuracy: 0.4365 - val_loss: 1.0677 - val_accuracy: 0.4417\n",
      "Epoch 21/200\n",
      "32/32 [==============================] - ETA: 0s - loss: 1.0697 - accuracy: 0.4083\n",
      "Epoch 00021: saving model to ./output/version7/model.h5\n",
      "32/32 [==============================] - 25s 786ms/step - loss: 1.0697 - accuracy: 0.4083 - val_loss: 1.0622 - val_accuracy: 0.4417\n",
      "Epoch 22/200\n",
      "32/32 [==============================] - ETA: 0s - loss: 1.0774 - accuracy: 0.4094\n",
      "Epoch 00022: saving model to ./output/version7/model.h5\n",
      "32/32 [==============================] - 22s 701ms/step - loss: 1.0774 - accuracy: 0.4094 - val_loss: 1.0907 - val_accuracy: 0.4292\n",
      "Epoch 23/200\n",
      "32/32 [==============================] - ETA: 0s - loss: 1.0603 - accuracy: 0.4313\n",
      "Epoch 00023: saving model to ./output/version7/model.h5\n",
      "32/32 [==============================] - 23s 718ms/step - loss: 1.0603 - accuracy: 0.4313 - val_loss: 1.0842 - val_accuracy: 0.4458\n",
      "Epoch 24/200\n",
      "32/32 [==============================] - ETA: 0s - loss: 1.0610 - accuracy: 0.4250\n",
      "Epoch 00024: saving model to ./output/version7/model.h5\n",
      "32/32 [==============================] - 22s 683ms/step - loss: 1.0610 - accuracy: 0.4250 - val_loss: 1.0864 - val_accuracy: 0.4458\n",
      "Epoch 25/200\n",
      "32/32 [==============================] - ETA: 0s - loss: 1.0781 - accuracy: 0.4125\n",
      "Epoch 00025: saving model to ./output/version7/model.h5\n",
      "32/32 [==============================] - 23s 708ms/step - loss: 1.0781 - accuracy: 0.4125 - val_loss: 1.0567 - val_accuracy: 0.4083\n",
      "Epoch 26/200\n",
      "32/32 [==============================] - ETA: 0s - loss: 1.0640 - accuracy: 0.4177\n",
      "Epoch 00026: saving model to ./output/version7/model.h5\n",
      "32/32 [==============================] - 24s 737ms/step - loss: 1.0640 - accuracy: 0.4177 - val_loss: 1.0685 - val_accuracy: 0.4417\n",
      "Epoch 27/200\n",
      "32/32 [==============================] - ETA: 0s - loss: 1.0539 - accuracy: 0.4396\n",
      "Epoch 00027: saving model to ./output/version7/model.h5\n",
      "32/32 [==============================] - 23s 706ms/step - loss: 1.0539 - accuracy: 0.4396 - val_loss: 1.1566 - val_accuracy: 0.4167\n",
      "Epoch 28/200\n",
      "32/32 [==============================] - ETA: 0s - loss: 1.0773 - accuracy: 0.4229\n",
      "Epoch 00028: saving model to ./output/version7/model.h5\n",
      "32/32 [==============================] - 22s 683ms/step - loss: 1.0773 - accuracy: 0.4229 - val_loss: 1.0552 - val_accuracy: 0.4250\n",
      "Epoch 29/200\n",
      "32/32 [==============================] - ETA: 0s - loss: 1.0658 - accuracy: 0.4365\n",
      "Epoch 00029: saving model to ./output/version7/model.h5\n",
      "32/32 [==============================] - 23s 720ms/step - loss: 1.0658 - accuracy: 0.4365 - val_loss: 1.0532 - val_accuracy: 0.4167\n",
      "Epoch 30/200\n",
      "32/32 [==============================] - ETA: 0s - loss: 1.0664 - accuracy: 0.4198\n",
      "Epoch 00030: saving model to ./output/version7/model.h5\n",
      "32/32 [==============================] - 25s 792ms/step - loss: 1.0664 - accuracy: 0.4198 - val_loss: 1.0683 - val_accuracy: 0.4542\n",
      "Epoch 31/200\n",
      "32/32 [==============================] - ETA: 0s - loss: 1.0646 - accuracy: 0.4490\n",
      "Epoch 00031: saving model to ./output/version7/model.h5\n",
      "32/32 [==============================] - 26s 803ms/step - loss: 1.0646 - accuracy: 0.4490 - val_loss: 1.0831 - val_accuracy: 0.4542\n",
      "Epoch 32/200\n",
      "32/32 [==============================] - ETA: 0s - loss: 1.0473 - accuracy: 0.4365\n",
      "Epoch 00032: saving model to ./output/version7/model.h5\n",
      "32/32 [==============================] - 22s 685ms/step - loss: 1.0473 - accuracy: 0.4365 - val_loss: 1.0615 - val_accuracy: 0.4375\n",
      "Epoch 33/200\n",
      "32/32 [==============================] - ETA: 0s - loss: 1.0630 - accuracy: 0.4281\n",
      "Epoch 00033: saving model to ./output/version7/model.h5\n",
      "32/32 [==============================] - 21s 671ms/step - loss: 1.0630 - accuracy: 0.4281 - val_loss: 1.0821 - val_accuracy: 0.4250\n",
      "Epoch 34/200\n",
      "32/32 [==============================] - ETA: 0s - loss: 1.0497 - accuracy: 0.4521\n",
      "Epoch 00034: saving model to ./output/version7/model.h5\n",
      "32/32 [==============================] - 25s 771ms/step - loss: 1.0497 - accuracy: 0.4521 - val_loss: 1.1492 - val_accuracy: 0.4375\n",
      "Epoch 35/200\n",
      "32/32 [==============================] - ETA: 0s - loss: 1.0610 - accuracy: 0.4333\n",
      "Epoch 00035: saving model to ./output/version7/model.h5\n",
      "32/32 [==============================] - 23s 710ms/step - loss: 1.0610 - accuracy: 0.4333 - val_loss: 1.0847 - val_accuracy: 0.4333\n",
      "Epoch 36/200\n",
      "32/32 [==============================] - ETA: 0s - loss: 1.0600 - accuracy: 0.4125\n",
      "Epoch 00036: saving model to ./output/version7/model.h5\n",
      "32/32 [==============================] - 23s 724ms/step - loss: 1.0600 - accuracy: 0.4125 - val_loss: 1.0738 - val_accuracy: 0.4667\n",
      "Epoch 37/200\n",
      "32/32 [==============================] - ETA: 0s - loss: 1.0504 - accuracy: 0.4365\n",
      "Epoch 00037: saving model to ./output/version7/model.h5\n",
      "32/32 [==============================] - 24s 756ms/step - loss: 1.0504 - accuracy: 0.4365 - val_loss: 1.0595 - val_accuracy: 0.4542\n",
      "Epoch 38/200\n",
      "32/32 [==============================] - ETA: 0s - loss: 1.0612 - accuracy: 0.4510\n",
      "Epoch 00038: saving model to ./output/version7/model.h5\n",
      "32/32 [==============================] - 23s 729ms/step - loss: 1.0612 - accuracy: 0.4510 - val_loss: 1.0656 - val_accuracy: 0.4000\n",
      "Epoch 39/200\n",
      "32/32 [==============================] - ETA: 0s - loss: 1.0605 - accuracy: 0.4187\n",
      "Epoch 00039: saving model to ./output/version7/model.h5\n",
      "32/32 [==============================] - 27s 842ms/step - loss: 1.0605 - accuracy: 0.4187 - val_loss: 1.0673 - val_accuracy: 0.4208\n",
      "Epoch 00039: early stopping\n"
     ]
    }
   ],
   "source": [
    "# Set callback functions to early stop training and save the best model so far\n",
    "callbacks = [\n",
    "    tf.keras.callbacks.EarlyStopping(monitor='val_loss', patience=10, verbose=1, min_delta=1e-5),\n",
    "    tf.keras.callbacks.ModelCheckpoint(filepath=os.path.join(output_path,'model.h5'), monitor='val_loss', \n",
    "                                       save_best_only=False, verbose=1),\n",
    "    ks.callbacks.CSVLogger(os.path.join(output_path,'log_training.csv') ,\n",
    "                           append=True, separator=',')\n",
    "]\n",
    "# training\n",
    "# train_history = model.fit_generator(\n",
    "# \tgenerator=train_generator,\n",
    "# \tsteps_per_epoch=len(train_generator),\n",
    "# \tepochs=EPOCHS,\n",
    "#     callbacks=callbacks,\n",
    "# \tvalidation_data=valid_generator,\n",
    "# \tvalidation_steps=len(valid_generator),\n",
    "#     verbose=1\n",
    "# )\n",
    "\n",
    "model.load_weights(os.path.join(output_path,'model.h5'))"
   ]
  },
  {
   "cell_type": "markdown",
   "metadata": {
    "id": "1DP7xL-RA7_O"
   },
   "source": [
    "## learning curve"
   ]
  },
  {
   "cell_type": "code",
   "execution_count": 38,
   "metadata": {
    "id": "TJYtvZHXA6Vr"
   },
   "outputs": [
    {
     "data": {
      "image/png": "[encoded data removed]",
      "text/plain": [
       "<Figure size 576x576 with 2 Axes>"
      ]
     },
     "metadata": {
      "needs_background": "light"
     },
     "output_type": "display_data"
    }
   ],
   "source": [
    "acc = train_history.history['accuracy']\n",
    "val_acc = train_history.history['val_accuracy']\n",
    "\n",
    "loss = train_history.history['loss']\n",
    "val_loss = train_history.history['val_loss']\n",
    "\n",
    "plt.figure(figsize=(8, 8))\n",
    "plt.subplot(2, 1, 1)\n",
    "plt.plot(acc, label='Training Accuracy')\n",
    "plt.plot(val_acc, label='Validation Accuracy')\n",
    "plt.legend(loc='lower right')\n",
    "plt.ylabel('Accuracy')\n",
    "plt.ylim([min(plt.ylim()),1])\n",
    "plt.title('Training and Validation Accuracy')\n",
    "\n",
    "plt.subplot(2, 1, 2)\n",
    "plt.plot(loss, label='Training Loss')\n",
    "plt.plot(val_loss, label='Validation Loss')\n",
    "plt.legend(loc='upper right')\n",
    "plt.ylabel('Cross Entropy')\n",
    "plt.ylim([0,2.0])\n",
    "plt.title('Training and Validation Loss')\n",
    "plt.xlabel('epoch')\n",
    "plt.savefig(os.path.join(output_path,'learning curve.png'))\n",
    "plt.show()\n"
   ]
  },
  {
   "cell_type": "code",
   "execution_count": 39,
   "metadata": {},
   "outputs": [],
   "source": [
    "df_tmp = pd.DataFrame(train_history.history)\n",
    "df_tmp.to_csv(os.path.join(output_path,'log_model_training.csv'))"
   ]
  },
  {
   "cell_type": "code",
   "execution_count": 40,
   "metadata": {},
   "outputs": [
    {
     "name": "stderr",
     "output_type": "stream",
     "text": [
      "<ipython-input-40-eada5191d386>:1: UserWarning: `Model.predict_generator` is deprecated and will be removed in a future version. Please use `Model.predict`, which supports generators.\n",
      "  temp = model.predict_generator(test_generator)\n"
     ]
    }
   ],
   "source": [
    "temp = model.predict_generator(test_generator)"
   ]
  },
  {
   "cell_type": "code",
   "execution_count": 41,
   "metadata": {},
   "outputs": [
    {
     "name": "stdout",
     "output_type": "stream",
     "text": [
      "[1 1 0 1 0]\n",
      "['Typical', 'Typical', 'Negative', 'Typical', 'Negative']\n"
     ]
    },
    {
     "data": {
      "text/plain": [
       "array([[100637.3  , 259583.9  , 145959.53 ],\n",
       "       [ 14359.513,  37449.438,  19772.854],\n",
       "       [ 20364.203,  18730.172,  17678.59 ],\n",
       "       [ 87680.17 , 264942.34 , 144331.31 ],\n",
       "       [ 41265.246,  31264.043,  27214.373]], dtype=float32)"
      ]
     },
     "execution_count": 41,
     "metadata": {},
     "output_type": "execute_result"
    }
   ],
   "source": [
    "# list_type = [\"Negative\", \"Typical\",\t\"Atypical\"]\n",
    "index_predict = np.argmax(temp, axis=1) \n",
    "predict_class = [list_class[i] for i in index_predict]\n",
    "print(index_predict[:5])\n",
    "print(predict_class[:5])\n",
    "temp[:5]"
   ]
  },
  {
   "cell_type": "code",
   "execution_count": 42,
   "metadata": {},
   "outputs": [
    {
     "data": {
      "text/plain": [
       "0      014cc6362544\n",
       "1      014f6b975233\n",
       "2      04d7e099eafa\n",
       "3      05a7f46635c7\n",
       "4      05e002867b16\n",
       "           ...     \n",
       "145    f6a9cee1149d\n",
       "146    f75463651b85\n",
       "147    f7f391fe9a3c\n",
       "148    fb31eeb4f056\n",
       "149    fd0516801814\n",
       "Name: FileID, Length: 150, dtype: object"
      ]
     },
     "execution_count": 42,
     "metadata": {},
     "output_type": "execute_result"
    }
   ],
   "source": [
    "df_temp = pd.read_csv('sample_submission.csv')\n",
    "df_temp['FileID']"
   ]
  },
  {
   "cell_type": "code",
   "execution_count": 43,
   "metadata": {},
   "outputs": [],
   "source": [
    "df_test[\"Type\"] = predict_class "
   ]
  },
  {
   "cell_type": "code",
   "execution_count": 44,
   "metadata": {},
   "outputs": [],
   "source": [
    "df_test = df_test.loc[df_temp['FileID'],:]\n",
    "del df_temp\n",
    "\n",
    "df_test['Type'].to_csv(os.path.join(output_path,'output.csv'), index_label='FileID')"
   ]
  },
  {
   "cell_type": "markdown",
   "metadata": {},
   "source": [
    "## confusion matrix"
   ]
  },
  {
   "cell_type": "code",
   "execution_count": 49,
   "metadata": {},
   "outputs": [],
   "source": [
    "import math\n",
    "from sklearn.metrics import ConfusionMatrixDisplay\n",
    "from sklearn.metrics import confusion_matrix"
   ]
  },
  {
   "cell_type": "code",
   "execution_count": 45,
   "metadata": {},
   "outputs": [
    {
     "name": "stderr",
     "output_type": "stream",
     "text": [
      "<ipython-input-45-e4ade065aa26>:1: UserWarning: `Model.evaluate_generator` is deprecated and will be removed in a future version. Please use `Model.evaluate`, which supports generators.\n",
      "  model.evaluate_generator(train_generator)\n"
     ]
    },
    {
     "data": {
      "text/plain": [
       "[1.042860507965088, 0.4572916626930237]"
      ]
     },
     "execution_count": 45,
     "metadata": {},
     "output_type": "execute_result"
    }
   ],
   "source": [
    "model.evaluate_generator(train_generator)"
   ]
  },
  {
   "cell_type": "code",
   "execution_count": 46,
   "metadata": {},
   "outputs": [
    {
     "name": "stderr",
     "output_type": "stream",
     "text": [
      "<ipython-input-46-96c8e4e60112>:1: UserWarning: `Model.evaluate_generator` is deprecated and will be removed in a future version. Please use `Model.evaluate`, which supports generators.\n",
      "  model.evaluate_generator(valid_generator)\n"
     ]
    },
    {
     "data": {
      "text/plain": [
       "[1.0673320293426514, 0.4208333194255829]"
      ]
     },
     "execution_count": 46,
     "metadata": {},
     "output_type": "execute_result"
    }
   ],
   "source": [
    "model.evaluate_generator(valid_generator)"
   ]
  },
  {
   "cell_type": "code",
   "execution_count": 54,
   "metadata": {},
   "outputs": [
    {
     "data": {
      "image/png": "[encoded data removed]",
      "text/plain": [
       "<Figure size 432x288 with 2 Axes>"
      ]
     },
     "metadata": {
      "needs_background": "light"
     },
     "output_type": "display_data"
    }
   ],
   "source": [
    "temp_y = [list_class[i] for i in np.argmax(np.transpose(np.array(train_generator.labels)),axis=1)]\n",
    "y_true = []\n",
    "y_pred = []\n",
    "for i in range(math.ceil(len(temp_y)/BATCH_SIZE)):\n",
    "    temp_image, temp_class = train_generator.next()\n",
    "    y_pred = y_pred + list(np.argmax(model.predict(temp_image),axis=1))\n",
    "    y_true = y_true + list(np.argmax(temp_class,axis=1))\n",
    "\n",
    "\n",
    "disp = ConfusionMatrixDisplay(confusion_matrix=confusion_matrix(y_true,y_pred), display_labels=list_class)\n",
    "\n",
    "disp.plot(cmap=plt.cm.Blues)\n",
    "plt.savefig(os.path.join(output_path,'train_CM.png'))\n",
    "plt.show()"
   ]
  },
  {
   "cell_type": "code",
   "execution_count": 55,
   "metadata": {},
   "outputs": [
    {
     "data": {
      "image/png": "[encoded data removed]",
      "text/plain": [
       "<Figure size 432x288 with 2 Axes>"
      ]
     },
     "metadata": {
      "needs_background": "light"
     },
     "output_type": "display_data"
    }
   ],
   "source": [
    "temp_y = [list_class[i] for i in np.argmax(np.transpose(np.array(valid_generator.labels)),axis=1)]\n",
    "y_true = []\n",
    "y_pred = []\n",
    "for i in range(math.ceil(len(temp_y)/BATCH_SIZE)):\n",
    "    temp_image, temp_class = valid_generator.next()\n",
    "    y_pred = y_pred + list(np.argmax(model.predict(temp_image),axis=1))\n",
    "    y_true = y_true + list(np.argmax(temp_class,axis=1))\n",
    "\n",
    "\n",
    "disp = ConfusionMatrixDisplay(confusion_matrix=confusion_matrix(y_true,y_pred), display_labels=list_class)\n",
    "\n",
    "disp.plot(cmap=plt.cm.Blues)\n",
    "plt.savefig(os.path.join(output_path,'valid_CM.png'))\n",
    "plt.show()"
   ]
  },
  {
   "cell_type": "code",
   "execution_count": null,
   "metadata": {},
   "outputs": [],
   "source": []
  }
 ],
 "metadata": {
  "accelerator": "TPU",
  "colab": {
   "authorship_tag": "ABX9TyOYSD4n0gHNhQxF2o+lyvbh",
   "collapsed_sections": [],
   "name": "Untitled0.ipynb",
   "provenance": []
  },
  "kernelspec": {
   "display_name": "Python 3",
   "language": "python",
   "name": "python3"
  },
  "language_info": {
   "codemirror_mode": {
    "name": "ipython",
    "version": 3
   },
   "file_extension": ".py",
   "mimetype": "text/x-python",
   "name": "python",
   "nbconvert_exporter": "python",
   "pygments_lexer": "ipython3",
   "version": "3.8.8"
  }
 },
 "nbformat": 4,
 "nbformat_minor": 4
}
